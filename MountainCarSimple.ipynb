{
  "nbformat": 4,
  "nbformat_minor": 0,
  "metadata": {
    "colab": {
      "name": "MountainCarSimple.ipynb",
      "provenance": [],
      "collapsed_sections": []
    },
    "kernelspec": {
      "name": "python3",
      "display_name": "Python 3"
    },
    "accelerator": "GPU"
  },
  "cells": [
    {
      "cell_type": "code",
      "metadata": {
        "id": "TCxcxPrHYRkE",
        "colab_type": "code",
        "colab": {}
      },
      "source": [
        "import gym\n",
        "import numpy as np\n",
        "import seaborn as sns\n",
        "import matplotlib.pyplot as plt\n",
        "sns.set()"
      ],
      "execution_count": 0,
      "outputs": []
    },
    {
      "cell_type": "code",
      "metadata": {
        "id": "Smc8quYNYPvV",
        "colab_type": "code",
        "colab": {}
      },
      "source": [
        "class MountainCar():\n",
        "    def __init__(self, env):\n",
        "        self.env = env\n",
        "        self.env._max_episode_steps = 1000\n",
        "        self.episodes = 50000\n",
        "        \n",
        "        self.pos_space = np.linspace(-1.2, 0.6, 30)\n",
        "        self.vel_space = np.linspace(-0.07, 0.07, 30)\n",
        "\n",
        "        self.lr = 0.1\n",
        "        self.gamma = 0.99\n",
        "        self.eps = 1.0\n",
        "\n",
        "    def make_discrete_states(self, obs):\n",
        "        pos, vel = obs\n",
        "        pos_disc = np.digitize(pos, self.pos_space)\n",
        "        vel_disc = np.digitize(vel, self.vel_space)\n",
        "\n",
        "        return (pos_disc, vel_disc)\n",
        "    \n",
        "    def pick_best_action(self, state):\n",
        "        values = np.array([self.Q[state, action] for action in [0, 1, 2]])\n",
        "        return np.argmax(values)\n",
        "\n",
        "    def run_episode(self, state):\n",
        "        done = False\n",
        "        score = 0\n",
        "        while not done:\n",
        "            action = np.random.randint(3) if np.random.random() < self.eps \\\n",
        "                else self.pick_best_action(state)\n",
        "            \n",
        "            state_, reward, done, _ = self.env.step(action)\n",
        "            state_ = self.make_discrete_states(state_)\n",
        "            score += reward\n",
        "\n",
        "            action_ = self.pick_best_action(state_)\n",
        "            self.Q[state, action] = self.Q[state, action] + self.lr*(reward + self.gamma* \\\n",
        "                            self.Q[state_, action_] - self.Q[state, action])\n",
        "            state = state_\n",
        "\n",
        "        return score\n",
        "\n",
        "    def start_env(self):\n",
        "        states = []\n",
        "        for pos in range(31):\n",
        "            for vel in range(31):\n",
        "                states.append((pos, vel))\n",
        "\n",
        "        self.Q = {}\n",
        "        for state in states:\n",
        "            for action in [0, 1, 2]:\n",
        "                self.Q[state, action] = 0\n",
        "        rewards = []\n",
        "        for ep in range(self.episodes):\n",
        "            state = self.make_discrete_states(self.env.reset())\n",
        "            rewards.append(self.run_episode(state))\n",
        "            self.eps = self.eps - 2/self.episodes if self.eps > 0.01 else 0.01\n",
        "            if ep % 2000 == 0 and ep > 0:\n",
        "                print(rewards[ep])\n",
        "\n",
        "        return rewards"
      ],
      "execution_count": 0,
      "outputs": []
    },
    {
      "cell_type": "code",
      "metadata": {
        "id": "IR8MjqshYawQ",
        "colab_type": "code",
        "colab": {
          "base_uri": "https://localhost:8080/",
          "height": 495
        },
        "outputId": "783521a8-f228-4f2b-afe5-8b4901f4577f"
      },
      "source": [
        "env = gym.make(\"MountainCar-v0\")\n",
        "\n",
        "car_env = MountainCar(env)\n",
        "rewards = car_env.start_env()\n",
        "\n",
        "mean = np.zeros(car_env.episodes)\n",
        "for t in range(car_env.episodes):\n",
        "    mean[t] = np.mean(rewards[max(0, t-50):t+1])"
      ],
      "execution_count": 65,
      "outputs": [
        {
          "output_type": "stream",
          "text": [
            "/usr/local/lib/python3.6/dist-packages/gym/logger.py:30: UserWarning: \u001b[33mWARN: Box bound precision lowered by casting to float32\u001b[0m\n",
            "  warnings.warn(colorize('%s: %s'%('WARN', msg % args), 'yellow'))\n"
          ],
          "name": "stderr"
        },
        {
          "output_type": "stream",
          "text": [
            "-1000.0\n",
            "-791.0\n",
            "-327.0\n",
            "-416.0\n",
            "-354.0\n",
            "-227.0\n",
            "-269.0\n",
            "-195.0\n",
            "-181.0\n",
            "-189.0\n",
            "-155.0\n",
            "-182.0\n",
            "-186.0\n",
            "-124.0\n",
            "-118.0\n",
            "-150.0\n",
            "-150.0\n",
            "-120.0\n",
            "-144.0\n",
            "-143.0\n",
            "-143.0\n",
            "-117.0\n",
            "-137.0\n",
            "-152.0\n"
          ],
          "name": "stdout"
        }
      ]
    },
    {
      "cell_type": "code",
      "metadata": {
        "id": "_P5UfjpScOQ5",
        "colab_type": "code",
        "colab": {
          "base_uri": "https://localhost:8080/",
          "height": 268
        },
        "outputId": "59739b0d-267e-4543-cba2-c92721665099"
      },
      "source": [
        "plt.plot(np.array(mean))\n",
        "plt.savefig(\"output_reward_alot.png\")"
      ],
      "execution_count": 66,
      "outputs": [
        {
          "output_type": "display_data",
          "data": {
            "image/png": "[encoded data removed]",
            "text/plain": [
              "<Figure size 432x288 with 1 Axes>"
            ]
          },
          "metadata": {
            "tags": []
          }
        }
      ]
    }
  ]
}